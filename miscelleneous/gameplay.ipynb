{
 "cells": [
  {
   "cell_type": "markdown",
   "metadata": {},
   "source": [
    "# Chess Gameplay\n",
    "\n",
    "First import our `chess_gameplay` module."
   ]
  },
  {
   "cell_type": "code",
   "execution_count": 33,
   "metadata": {},
   "outputs": [],
   "source": [
    "import chess_gameplay as chg"
   ]
  },
  {
   "cell_type": "markdown",
   "metadata": {},
   "source": [
    "## Playing a game\n",
    "\n",
    "Let's take a look at how games will be played in the tournament. Before running this cell, open the `demo.png` file alongside so you can watch the action!"
   ]
  },
  {
   "cell_type": "code",
   "execution_count": null,
   "metadata": {},
   "outputs": [
    {
     "name": "stdout",
     "output_type": "stream",
     "text": [
      "Sorted directories starting with 'CHK':\n",
      "['CHK0', 'CHK1', 'CHK2']\n",
      "{'CHK0': '/shared/yogesh/base_model_run_1/CHK0/checkpoint.pt', 'CHK1': '/shared/yogesh/base_model_run_1/CHK1/checkpoint.pt', 'CHK2': '/shared/yogesh/base_model_run_1/CHK2/checkpoint.pt'}\n"
     ]
    }
   ],
   "source": [
    "from pathlib import Path\n",
    "import re\n",
    "\n",
    "# Define the path\n",
    "path = Path(\"/shared/artifacts/3daf7d2b-d49a-412f-9428-94e28dd9e1ce/checkpoints\")\n",
    "copy_winner = '/shared/Winning/Model_4'\n",
    "\n",
    "# Function to extract numerical part from \"CHK\" directories\n",
    "def extract_number(dir_name):\n",
    "    match = re.search(r'CHK(\\d+)', dir_name)\n",
    "    return int(match.group(1)) if match else float('inf')\n",
    "\n",
    "# List and sort directories\n",
    "chk_dirs = sorted(\n",
    "    [d.name for d in path.iterdir() if d.is_dir() and d.name.startswith(\"CHK\")],\n",
    "    key=extract_number\n",
    ")\n",
    "\n",
    "print(\"Sorted directories starting with 'CHK':\")\n",
    "print(chk_dirs)\n",
    "\n",
    "#checkpoints_location = {\"check1\": \"/shared/yogesh/base_model_run_1/CHK0/checkpoint.pt\" , \n",
    "#                        \"check2\": \"/shared/yogesh/base_model_run_1/CHK1/checkpoint.pt\" ,\n",
    "#                        \"check3\": \"/shared/yogesh/base_model_run_1/CHK2/checkpoint.pt\"}\n",
    "checkpoints_location = {}\n",
    "\n",
    "for dir in chk_dirs:\n",
    "    checkpoints_location[dir] = str(path) + \"/\" + dir + \"/checkpoint.pt\"\n",
    "\n",
    "print(checkpoints_location)\n"
   ]
  },
  {
   "cell_type": "markdown",
   "metadata": {},
   "source": [
    "## Agents using models\n",
    "\n",
    "Until you have trained a model and saved a checkpoint, you will not be able to run the following cell, but you can see how your model will be called and passed to an Agent to play with."
   ]
  },
  {
   "cell_type": "code",
   "execution_count": 35,
   "metadata": {},
   "outputs": [],
   "source": [
    "import torch\n",
    "import yaml\n",
    "\n",
    "# Your model must be imported exactly as follows; from a module called \"model\" (a file called \"model.py\") and with\n",
    "# the class name \"Model\".\n",
    "\n",
    "from model import Model\n",
    "\n",
    "models_checks = {}\n",
    "# All necessary arguments for your model to initialize with must be saved in a YAML file called \"model_config.yaml\"\n",
    "# so that your model can be instantiated exactly as follows. Your model must NOT require any initialization arguments\n",
    "# besides those described in your \"model_config.yaml\" file.\n",
    "model_config = yaml.safe_load(open(\"model_config.yaml\"))\n",
    "\n",
    "for key in checkpoints_location:\n",
    "    model = Model(**model_config)\n",
    "    # Your model checkpoint must be called \"checkpoint.pt\" and must be a dictionary-like object with your model weights\n",
    "    # stored at the key \"model\" so that it can be loaded into your model exactly as follows.\n",
    "    checkpoint = torch.load(checkpoints_location[key], map_location=\"cpu\")\n",
    "    model.load_state_dict(checkpoint[\"model\"])\n",
    "    models_checks[key] = model\n",
    "\n",
    "# Note: when you load your model weights you may see the following warning. You can safely ignore this warning.\n",
    "\n",
    "ignore = \"\"\"\n",
    "/root/.chess/lib/python3.10/site-packages/torch/cuda/__init__.py:619: UserWarning: Can't initialize NVML\n",
    "  warnings.warn(\"Can't initialize NVML\")\n",
    "\"\"\""
   ]
  },
  {
   "cell_type": "code",
   "execution_count": 36,
   "metadata": {},
   "outputs": [],
   "source": [
    "import shutil\n",
    "import os\n",
    "from datetime import datetime\n",
    "\n",
    "def copy_directory(source_dir, destination_dir):\n",
    "    if not os.path.exists(source_dir):\n",
    "        print(f\"Source directory '{source_dir}' does not exist!\")\n",
    "        return\n",
    "    \n",
    "    # Ensure the destination directory exists\n",
    "    os.makedirs(destination_dir, exist_ok=True)\n",
    "\n",
    "    # Extract directory name\n",
    "    dir_name = os.path.basename(source_dir)\n",
    "    target_path = os.path.join(destination_dir, dir_name)\n",
    "\n",
    "    # If directory already exists, rename it with timestamp\n",
    "    if os.path.exists(target_path):\n",
    "        timestamp = datetime.now().strftime(\"%H-%M-%S\")\n",
    "        target_path = os.path.join(destination_dir, f\"{dir_name}_{timestamp}\")\n",
    "\n",
    "    # Copy the directory\n",
    "    shutil.copytree(source_dir, target_path)\n",
    "    print(f\"Directory copied successfully to: {target_path}\")\n",
    "\n",
    "# Example Usage\n",
    "#source = \"/shared/yogesh/base_model_run_1/CHK0\"  # Change to your source directory\n",
    "#destination = \"/shared/Winning/\"  # Change to your destination\n",
    "\n",
    "#copy_directory(source, destination)\n"
   ]
  },
  {
   "cell_type": "code",
   "execution_count": 37,
   "metadata": {},
   "outputs": [],
   "source": [
    "def run_game(m1, m1_key, m2, m2_key):\n",
    "    agents = {'white': chg.Agent(m1), 'black': chg.Agent(m2)}\n",
    "    teams = {'white': 'Team White', 'black': 'Team Black'}\n",
    "    \n",
    "    print(f'Playing {m1_key} as White and {m2_key} as Black')\n",
    "    game_result = chg.play_game(\n",
    "        agents, \n",
    "        teams, \n",
    "        max_moves=50, \n",
    "        min_seconds_per_move=0, \n",
    "        verbose=False, \n",
    "        poseval=True, \n",
    "        image_path=\"demo.png\")\n",
    "    \n",
    "    white_points, black_points = game_result['white']['points'], game_result['black']['points']\n",
    "    white_score, black_score = (white_points + 10_000) / 20_000, (black_points + 10_000) / 20_000\n",
    "    print(f\"{m1_key} as White score: {white_score:,.3}, {m2_key} as Black score: {black_score:,.3}\")\n",
    "\n",
    "    return white_score, black_score\n",
    "\n",
    "def best_avg(m1, m1_key, m2, m2_key):\n",
    "    m1_white, m2_black = run_game(m1,m1_key, m2, m2_key)\n",
    "    m2_white, m1_black = run_game(m2,m2_key, m1, m1_key)\n",
    "\n",
    "    m1_avg = (m1_white + m1_black)/2\n",
    "    m2_avg = (m2_white + m2_black)/2\n",
    "\n",
    "    print(f'{m1_key} with avg of {m1_avg:,.3}')\n",
    "    print(f'{m2_key} with avg of {m2_avg:,.3}')\n",
    "    \n",
    "    if(m1_avg > m2_avg): return 'm1'\n",
    "    else: return 'm2'\n"
   ]
  },
  {
   "cell_type": "code",
   "execution_count": null,
   "metadata": {},
   "outputs": [
    {
     "name": "stdout",
     "output_type": "stream",
     "text": [
      "Comparing check points: CHK0 with CHK1\n",
      "Playing CHK0 as White and CHK1 as Black\n",
      "CHK0 as White score: 0.999, CHK1 as Black score: 0.00065\n",
      "Playing CHK1 as White and CHK0 as Black\n",
      "CHK1 as White score: 0.476, CHK0 as Black score: 0.524\n",
      "CHK0 with avg of 0.762\n",
      "CHK1 with avg of 0.238\n",
      "Winner is : CHK0\n",
      "Comparing check points: CHK0 with CHK2\n",
      "Playing CHK0 as White and CHK2 as Black\n",
      "CHK0 as White score: 1.0, CHK2 as Black score: 5e-05\n",
      "Playing CHK2 as White and CHK0 as Black\n",
      "CHK2 as White score: 0.532, CHK0 as Black score: 0.468\n",
      "CHK0 with avg of 0.734\n",
      "CHK2 with avg of 0.266\n",
      "Winner is : CHK0\n",
      "last winner is CHK0\n",
      "Directory copied successfully to: /shared/Winning/run/CHK0\n"
     ]
    }
   ],
   "source": [
    "model_keys = list(models_checks.keys())\n",
    "game_iterations = 1; # games will be playes 1 as White and 1 as Black (so game_iterations X 2 games will be played)\n",
    "\n",
    "checkpoint_length = checkpoints_location.__len__\n",
    "\n",
    "last_winner = 0\n",
    "next_index = 1\n",
    "\n",
    "for i in range(len(model_keys)):\n",
    "    \n",
    "    if i == len(model_keys): break\n",
    "    if i < next_index: continue\n",
    "\n",
    "    m1_key = model_keys[last_winner]\n",
    "    m2_key = model_keys[next_index]\n",
    "\n",
    "    print(f'Comparing check points: {m1_key} with {m2_key}')\n",
    "    winner = best_avg(m1=models_checks[m1_key], m1_key=m1_key, m2=models_checks[m2_key], m2_key=m2_key)\n",
    "\n",
    "    if winner == 'm2':\n",
    "        last_winner = next_index\n",
    "\n",
    "    print(f'Winner is : {model_keys[last_winner]}')\n",
    "\n",
    "    next_index = next_index + 1\n",
    "    \n",
    "winning_checkpoint = model_keys[last_winner]\n",
    "print(f'last winner is {winning_checkpoint}')\n",
    "\n",
    "copy_directory(str(path) + \"/\" + winning_checkpoint, copy_winner)\n",
    "# The model is passed as the first positional argument to the Agent, and is then available to the agent to use for\n",
    "# selecting moves in the game.\n",
    "\n",
    "# agents = {'white': chg.Agent(model), 'black': chg.Agent(model)}\n",
    "# teams = {'white': 'Team White', 'black': 'Team Black'}\n",
    "\n",
    "# game_result = chg.play_game(\n",
    "#     agents, \n",
    "#     teams, \n",
    "#     max_moves=5, \n",
    "#     min_seconds_per_move=0, \n",
    "#     verbose=True, \n",
    "#     poseval=True, \n",
    "#     image_path=\"demo.png\"\n",
    "# )"
   ]
  }
 ],
 "metadata": {
  "kernelspec": {
   "display_name": ".chess",
   "language": "python",
   "name": "python3"
  },
  "language_info": {
   "codemirror_mode": {
    "name": "ipython",
    "version": 3
   },
   "file_extension": ".py",
   "mimetype": "text/x-python",
   "name": "python",
   "nbconvert_exporter": "python",
   "pygments_lexer": "ipython3",
   "version": "3.10.12"
  }
 },
 "nbformat": 4,
 "nbformat_minor": 2
}
