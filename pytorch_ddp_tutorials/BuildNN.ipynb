{
 "cells": [
  {
   "cell_type": "code",
   "execution_count": 3,
   "metadata": {},
   "outputs": [],
   "source": [
    "#Build the Neural Network\n",
    "# torch.nn is  a collection of ready to use layers and functions\n",
    "# nn.module is the base class from which all the models and layers should inherit\n",
    "\n",
    "import os\n",
    "import torch\n",
    "from torch import nn\n",
    "from torch.utils.data import DataLoader\n",
    "from torchvision import datasets, transforms"
   ]
  },
  {
   "cell_type": "code",
   "execution_count": 5,
   "metadata": {},
   "outputs": [
    {
     "name": "stdout",
     "output_type": "stream",
     "text": [
      "Using cuda device\n"
     ]
    }
   ],
   "source": [
    "# we will check if GPU is available, if not we will use cpu\n",
    "# Check if CUDA (GPU) is available, else use CPU\n",
    "device = torch.device(\"cuda\" if torch.cuda.is_available() else \"cpu\")\n",
    "print(f\"Using {device} device\")"
   ]
  },
  {
   "cell_type": "code",
   "execution_count": 6,
   "metadata": {},
   "outputs": [],
   "source": [
    "#define the class subclassing nn.Module\n",
    "class NeuralNetwork(nn.Module):\n",
    "    def __init__(self):\n",
    "        super().__init__()\n",
    "        self.flatten = nn.Flatten()\n",
    "        self.linear_relu_stack = nn.Sequential(\n",
    "            nn.Linear(28*28, 512),\n",
    "            nn.ReLU(),\n",
    "            nn.Linear(512, 512),\n",
    "            nn.ReLU(),\n",
    "            nn.Linear(512, 10),\n",
    "        )\n",
    "\n",
    "    def forward(self, x):\n",
    "        x = self.flatten(x)\n",
    "        logits = self.linear_relu_stack(x)\n",
    "        return logits\n"
   ]
  },
  {
   "cell_type": "code",
   "execution_count": 7,
   "metadata": {},
   "outputs": [
    {
     "name": "stdout",
     "output_type": "stream",
     "text": [
      "NeuralNetwork(\n",
      "  (flatten): Flatten(start_dim=1, end_dim=-1)\n",
      "  (linear_relu_stack): Sequential(\n",
      "    (0): Linear(in_features=784, out_features=512, bias=True)\n",
      "    (1): ReLU()\n",
      "    (2): Linear(in_features=512, out_features=512, bias=True)\n",
      "    (3): ReLU()\n",
      "    (4): Linear(in_features=512, out_features=10, bias=True)\n",
      "  )\n",
      ")\n"
     ]
    }
   ],
   "source": [
    "model = NeuralNetwork().to(device)\n",
    "print(model)"
   ]
  },
  {
   "cell_type": "code",
   "execution_count": 10,
   "metadata": {},
   "outputs": [
    {
     "name": "stdout",
     "output_type": "stream",
     "text": [
      "print the probability: tensor([[0.1014, 0.0984, 0.1054, 0.1049, 0.0944, 0.1094, 0.0961, 0.1021, 0.0906,\n",
      "         0.0974]], device='cuda:0', grad_fn=<SoftmaxBackward0>)\n",
      "Predicted class: tensor([5], device='cuda:0')\n"
     ]
    }
   ],
   "source": [
    "# calling forward pass\n",
    "X= torch.rand(1,28,28,device=device)\n",
    "logits= model(X)\n",
    "pred_probab = nn.Softmax(dim=1)(logits)\n",
    "print(f\"print the probability: {pred_probab}\")\n",
    "y_pred = pred_probab.argmax(1)\n",
    "print(f\"Predicted class: {y_pred}\")\n"
   ]
  },
  {
   "cell_type": "code",
   "execution_count": 11,
   "metadata": {},
   "outputs": [
    {
     "name": "stdout",
     "output_type": "stream",
     "text": [
      "torch.Size([3, 28, 28])\n"
     ]
    }
   ],
   "source": [
    "#Model Layers\n",
    "input_image=torch.rand(3,28,28)\n",
    "print(input_image.size())"
   ]
  },
  {
   "cell_type": "code",
   "execution_count": 12,
   "metadata": {},
   "outputs": [
    {
     "name": "stdout",
     "output_type": "stream",
     "text": [
      "torch.Size([3, 784])\n"
     ]
    }
   ],
   "source": [
    "# Flatten the layers\n",
    "flatten= nn.Flatten()\n",
    "flat_image=flatten(input_image)\n",
    "print(flat_image.size())"
   ]
  },
  {
   "cell_type": "code",
   "execution_count": 13,
   "metadata": {},
   "outputs": [
    {
     "name": "stdout",
     "output_type": "stream",
     "text": [
      "torch.Size([3, 20])\n"
     ]
    }
   ],
   "source": [
    "# nn linear is a module that applies a linear transformation on the input\n",
    "layer1 = nn.Linear(in_features=28*28, out_features=20)\n",
    "hidden1 = layer1(flat_image)\n",
    "print(hidden1.size())"
   ]
  },
  {
   "cell_type": "code",
   "execution_count": 14,
   "metadata": {},
   "outputs": [
    {
     "name": "stdout",
     "output_type": "stream",
     "text": [
      "Before ReLU: tensor([[-0.0280, -0.0038,  0.1186, -0.5023,  0.2913, -0.3041,  0.0208, -0.0931,\n",
      "          0.1807, -0.0122, -0.3528,  0.2375,  0.2734,  0.4775, -0.0282,  0.5482,\n",
      "          0.1966,  0.2648,  0.2586,  0.2519],\n",
      "        [ 0.3166, -0.3558,  0.1468, -0.3569,  0.4263,  0.0181, -0.3887,  0.2836,\n",
      "         -0.1035,  0.1007,  0.1543,  0.3694,  0.4860,  0.3858, -0.3161,  0.6157,\n",
      "          0.1633,  0.4891, -0.3131,  0.3256],\n",
      "        [ 0.1533, -0.3250,  0.2351, -0.4263,  0.5245, -0.1095, -0.2299,  0.2762,\n",
      "          0.3671,  0.4177, -0.1249,  0.4050,  0.1945,  0.1594, -0.3431,  0.7766,\n",
      "          0.4111,  0.4846,  0.3386,  0.1362]], grad_fn=<AddmmBackward0>)\n",
      "\n",
      "\n",
      "After ReLU: tensor([[0.0000, 0.0000, 0.1186, 0.0000, 0.2913, 0.0000, 0.0208, 0.0000, 0.1807,\n",
      "         0.0000, 0.0000, 0.2375, 0.2734, 0.4775, 0.0000, 0.5482, 0.1966, 0.2648,\n",
      "         0.2586, 0.2519],\n",
      "        [0.3166, 0.0000, 0.1468, 0.0000, 0.4263, 0.0181, 0.0000, 0.2836, 0.0000,\n",
      "         0.1007, 0.1543, 0.3694, 0.4860, 0.3858, 0.0000, 0.6157, 0.1633, 0.4891,\n",
      "         0.0000, 0.3256],\n",
      "        [0.1533, 0.0000, 0.2351, 0.0000, 0.5245, 0.0000, 0.0000, 0.2762, 0.3671,\n",
      "         0.4177, 0.0000, 0.4050, 0.1945, 0.1594, 0.0000, 0.7766, 0.4111, 0.4846,\n",
      "         0.3386, 0.1362]], grad_fn=<ReluBackward0>)\n"
     ]
    }
   ],
   "source": [
    "# nn relu\n",
    "print(f\"Before ReLU: {hidden1}\\n\\n\")\n",
    "hidden1 = nn.ReLU()(hidden1)\n",
    "print(f\"After ReLU: {hidden1}\")\n"
   ]
  },
  {
   "cell_type": "code",
   "execution_count": 15,
   "metadata": {},
   "outputs": [],
   "source": [
    "seq_modules = nn.Sequential(\n",
    "    flatten,\n",
    "    layer1,\n",
    "    nn.ReLU(),\n",
    "    nn.Linear(20, 10)\n",
    ")\n",
    "input_image = torch.rand(3,28,28)\n",
    "logits = seq_modules(input_image)\n",
    "softmax = nn.Softmax(dim=1) # row wise (dim=1)\n",
    "pred_probab = softmax(logits)"
   ]
  },
  {
   "cell_type": "code",
   "execution_count": 16,
   "metadata": {},
   "outputs": [
    {
     "name": "stdout",
     "output_type": "stream",
     "text": [
      "Model structure: NeuralNetwork(\n",
      "  (flatten): Flatten(start_dim=1, end_dim=-1)\n",
      "  (linear_relu_stack): Sequential(\n",
      "    (0): Linear(in_features=784, out_features=512, bias=True)\n",
      "    (1): ReLU()\n",
      "    (2): Linear(in_features=512, out_features=512, bias=True)\n",
      "    (3): ReLU()\n",
      "    (4): Linear(in_features=512, out_features=10, bias=True)\n",
      "  )\n",
      ")\n",
      "\n",
      "\n",
      "Layer: linear_relu_stack.0.weight | Size: torch.Size([512, 784]) | Values : tensor([[-0.0202,  0.0090, -0.0012,  ..., -0.0333,  0.0124,  0.0062],\n",
      "        [-0.0213,  0.0183, -0.0008,  ...,  0.0296,  0.0241,  0.0034]],\n",
      "       device='cuda:0', grad_fn=<SliceBackward0>) \n",
      "\n",
      "Layer: linear_relu_stack.0.bias | Size: torch.Size([512]) | Values : tensor([ 0.0051, -0.0281], device='cuda:0', grad_fn=<SliceBackward0>) \n",
      "\n",
      "Layer: linear_relu_stack.2.weight | Size: torch.Size([512, 512]) | Values : tensor([[-0.0131, -0.0436,  0.0300,  ..., -0.0347,  0.0115,  0.0376],\n",
      "        [ 0.0308,  0.0250, -0.0384,  ...,  0.0120,  0.0106, -0.0416]],\n",
      "       device='cuda:0', grad_fn=<SliceBackward0>) \n",
      "\n",
      "Layer: linear_relu_stack.2.bias | Size: torch.Size([512]) | Values : tensor([-0.0080,  0.0323], device='cuda:0', grad_fn=<SliceBackward0>) \n",
      "\n",
      "Layer: linear_relu_stack.4.weight | Size: torch.Size([10, 512]) | Values : tensor([[-0.0429, -0.0236,  0.0275,  ...,  0.0391,  0.0386, -0.0172],\n",
      "        [ 0.0126, -0.0280, -0.0354,  ..., -0.0154,  0.0258, -0.0038]],\n",
      "       device='cuda:0', grad_fn=<SliceBackward0>) \n",
      "\n",
      "Layer: linear_relu_stack.4.bias | Size: torch.Size([10]) | Values : tensor([-0.0439,  0.0192], device='cuda:0', grad_fn=<SliceBackward0>) \n",
      "\n"
     ]
    }
   ],
   "source": [
    "#model parameters\n",
    "print(f\"Model structure: {model}\\n\\n\")\n",
    "\n",
    "for name, param in model.named_parameters():\n",
    "    print(f\"Layer: {name} | Size: {param.size()} | Values : {param[:2]} \\n\")\n"
   ]
  },
  {
   "cell_type": "code",
   "execution_count": null,
   "metadata": {},
   "outputs": [],
   "source": []
  }
 ],
 "metadata": {
  "kernelspec": {
   "display_name": "venv",
   "language": "python",
   "name": "python3"
  },
  "language_info": {
   "codemirror_mode": {
    "name": "ipython",
    "version": 3
   },
   "file_extension": ".py",
   "mimetype": "text/x-python",
   "name": "python",
   "nbconvert_exporter": "python",
   "pygments_lexer": "ipython3",
   "version": "3.8.10"
  }
 },
 "nbformat": 4,
 "nbformat_minor": 2
}
